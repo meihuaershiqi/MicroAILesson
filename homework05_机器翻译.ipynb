{
 "cells": [
  {
   "cell_type": "code",
   "execution_count": 1,
   "metadata": {},
   "outputs": [],
   "source": [
    "import tensorflow as tf\n",
    "\n",
    "import matplotlib.pyplot as plt\n",
    "import matplotlib.ticker as ticker\n",
    "import pandas as pd\n",
    "import numpy as np\n",
    "\n",
    "import jieba\n",
    "import re\n",
    "\n",
    "from sklearn.model_selection import train_test_split"
   ]
  },
  {
   "cell_type": "code",
   "execution_count": 2,
   "metadata": {},
   "outputs": [],
   "source": [
    "num_examples = 10000\n",
    "BATCH_SIZE = 128\n",
    "embedding_dim = 256\n",
    "units = 1024\n",
    "EPOCHS = 20"
   ]
  },
  {
   "cell_type": "markdown",
   "metadata": {},
   "source": [
    "## 加载数据并向量化"
   ]
  },
  {
   "cell_type": "code",
   "execution_count": 3,
   "metadata": {},
   "outputs": [
    {
     "data": {
      "text/html": [
       "<div>\n",
       "<style scoped>\n",
       "    .dataframe tbody tr th:only-of-type {\n",
       "        vertical-align: middle;\n",
       "    }\n",
       "\n",
       "    .dataframe tbody tr th {\n",
       "        vertical-align: top;\n",
       "    }\n",
       "\n",
       "    .dataframe thead th {\n",
       "        text-align: right;\n",
       "    }\n",
       "</style>\n",
       "<table border=\"1\" class=\"dataframe\">\n",
       "  <thead>\n",
       "    <tr style=\"text-align: right;\">\n",
       "      <th></th>\n",
       "      <th>inputs</th>\n",
       "      <th>targets</th>\n",
       "    </tr>\n",
       "  </thead>\n",
       "  <tbody>\n",
       "    <tr>\n",
       "      <td>0</td>\n",
       "      <td>Hi.</td>\n",
       "      <td>嗨。</td>\n",
       "    </tr>\n",
       "    <tr>\n",
       "      <td>1</td>\n",
       "      <td>Hi.</td>\n",
       "      <td>你好。</td>\n",
       "    </tr>\n",
       "    <tr>\n",
       "      <td>2</td>\n",
       "      <td>Run.</td>\n",
       "      <td>你用跑的。</td>\n",
       "    </tr>\n",
       "    <tr>\n",
       "      <td>3</td>\n",
       "      <td>Wait!</td>\n",
       "      <td>等等！</td>\n",
       "    </tr>\n",
       "    <tr>\n",
       "      <td>4</td>\n",
       "      <td>Wait!</td>\n",
       "      <td>等一下！</td>\n",
       "    </tr>\n",
       "  </tbody>\n",
       "</table>\n",
       "</div>"
      ],
      "text/plain": [
       "  inputs targets\n",
       "0    Hi.      嗨。\n",
       "1    Hi.     你好。\n",
       "2   Run.   你用跑的。\n",
       "3  Wait!     等等！\n",
       "4  Wait!    等一下！"
      ]
     },
     "execution_count": 3,
     "metadata": {},
     "output_type": "execute_result"
    }
   ],
   "source": [
    "data_path = 'cmn.txt'\n",
    "df = pd.read_table(data_path,header=None)\n",
    "df.columns=['inputs', 'targets', 'others']\n",
    "df = df[['inputs', 'targets']]\n",
    "df.head()"
   ]
  },
  {
   "cell_type": "code",
   "execution_count": 4,
   "metadata": {},
   "outputs": [],
   "source": [
    "def preprocess_sentence(w):\n",
    "    w = '<start> ' + ' '.join(jieba.cut(w)).lower() + ' <end>'\n",
    "    w = re.sub(r'[\" \"]+', \" \", w)\n",
    "    return w \n",
    "\n",
    "def create_dataset(data, num_examples=None):\n",
    "    eng = [preprocess_sentence(w) for w in df.inputs.values.tolist()[:num_examples]]\n",
    "    cha = [preprocess_sentence(w) for w in df.targets.values.tolist()[:num_examples]]\n",
    "    return eng, cha"
   ]
  },
  {
   "cell_type": "code",
   "execution_count": 5,
   "metadata": {},
   "outputs": [
    {
     "name": "stderr",
     "output_type": "stream",
     "text": [
      "Building prefix dict from the default dictionary ...\n",
      "Dumping model to file cache C:\\Users\\ZCF\\AppData\\Local\\Temp\\jieba.cache\n",
      "Loading model cost 1.064 seconds.\n",
      "Prefix dict has been built successfully.\n"
     ]
    },
    {
     "name": "stdout",
     "output_type": "stream",
     "text": [
      "<start> he wants a book to read . <end>\n",
      "<start> 他 想 找 本書來 讀 。 <end>\n"
     ]
    }
   ],
   "source": [
    "en, sp = create_dataset(df, 5432)\n",
    "print(en[-1])\n",
    "print(sp[-1])"
   ]
  },
  {
   "cell_type": "code",
   "execution_count": 6,
   "metadata": {},
   "outputs": [],
   "source": [
    "def max_length(tensor):\n",
    "    return max(len(t) for t in tensor)\n",
    "\n",
    "def tokenize(lang):\n",
    "    lang_tokenizer = tf.keras.preprocessing.text.Tokenizer(filters='')\n",
    "    lang_tokenizer.fit_on_texts(lang)\n",
    "\n",
    "    tensor = lang_tokenizer.texts_to_sequences(lang)\n",
    "\n",
    "    tensor = tf.keras.preprocessing.sequence.pad_sequences(tensor, padding='post')\n",
    "\n",
    "    return tensor, lang_tokenizer"
   ]
  },
  {
   "cell_type": "code",
   "execution_count": 7,
   "metadata": {},
   "outputs": [],
   "source": [
    "def load_dataset(data, num_examples=None):\n",
    "    # 创建清理过的输入输出对\n",
    "    inp_lang, targ_lang = create_dataset(data, num_examples)\n",
    "\n",
    "    input_tensor, inp_lang_tokenizer = tokenize(inp_lang)\n",
    "    target_tensor, targ_lang_tokenizer = tokenize(targ_lang)\n",
    "\n",
    "    return input_tensor, target_tensor, inp_lang_tokenizer, targ_lang_tokenizer"
   ]
  },
  {
   "cell_type": "code",
   "execution_count": 8,
   "metadata": {},
   "outputs": [
    {
     "name": "stdout",
     "output_type": "stream",
     "text": [
      "8000 8000 2000 2000\n"
     ]
    }
   ],
   "source": [
    "# 尝试实验不同大小的数据集\n",
    "input_tensor, target_tensor, inp_lang, targ_lang = load_dataset(\"./cmn.txt\", num_examples)\n",
    "\n",
    "# 计算目标张量的最大长度 （max_length）\n",
    "max_length_targ, max_length_inp = max_length(target_tensor), max_length(input_tensor)\n",
    "\n",
    "# 采用 80 - 20 的比例切分训练集和验证集\n",
    "input_tensor_train, input_tensor_val, target_tensor_train, target_tensor_val = train_test_split(input_tensor, target_tensor, test_size=0.2)\n",
    "\n",
    "# 显示长度\n",
    "print(len(input_tensor_train), len(target_tensor_train), len(input_tensor_val), len(target_tensor_val))"
   ]
  },
  {
   "cell_type": "code",
   "execution_count": 9,
   "metadata": {},
   "outputs": [
    {
     "name": "stdout",
     "output_type": "stream",
     "text": [
      "Input Language; index to word mapping\n",
      "1 ----> <start>\n",
      "27 ----> don\n",
      "5 ----> '\n",
      "13 ----> t\n",
      "41 ----> be\n",
      "2412 ----> disappointed\n",
      "3 ----> .\n",
      "2 ----> <end>\n",
      "\n",
      "Target Language; index to word mapping\n",
      "1 ----> <start>\n",
      "72 ----> 不要\n",
      "1456 ----> 失望\n",
      "3 ----> 。\n",
      "2 ----> <end>\n"
     ]
    }
   ],
   "source": [
    "def convert(lang, tensor):\n",
    "    for t in tensor:\n",
    "        if t!=0:\n",
    "            print (\"%d ----> %s\" % (t, lang.index_word[t]))\n",
    "\n",
    "print (\"Input Language; index to word mapping\")\n",
    "convert(inp_lang, input_tensor_train[0])\n",
    "print ()\n",
    "print (\"Target Language; index to word mapping\")\n",
    "convert(targ_lang, target_tensor_train[0])"
   ]
  },
  {
   "cell_type": "markdown",
   "metadata": {},
   "source": [
    "## 创建一个 tf.data 数据集"
   ]
  },
  {
   "cell_type": "code",
   "execution_count": 10,
   "metadata": {},
   "outputs": [
    {
     "data": {
      "text/plain": [
       "(TensorShape([128, 15]), TensorShape([128, 15]))"
      ]
     },
     "execution_count": 10,
     "metadata": {},
     "output_type": "execute_result"
    }
   ],
   "source": [
    "BUFFER_SIZE = len(input_tensor_train)\n",
    "steps_per_epoch = len(input_tensor_train)//BATCH_SIZE\n",
    "\n",
    "vocab_inp_size = len(inp_lang.word_index)+1\n",
    "vocab_tar_size = len(targ_lang.word_index)+1\n",
    "\n",
    "dataset = tf.data.Dataset.from_tensor_slices((input_tensor_train, target_tensor_train)).shuffle(BUFFER_SIZE)\n",
    "dataset = dataset.batch(BATCH_SIZE, drop_remainder=True)\n",
    "\n",
    "example_input_batch, example_target_batch = next(iter(dataset))\n",
    "example_input_batch.shape, example_target_batch.shape"
   ]
  },
  {
   "cell_type": "markdown",
   "metadata": {},
   "source": [
    "## 编写编码器 （encoder） 和解码器 （decoder） 模型"
   ]
  },
  {
   "cell_type": "code",
   "execution_count": 11,
   "metadata": {},
   "outputs": [
    {
     "name": "stdout",
     "output_type": "stream",
     "text": [
      "Encoder output shape: (batch size, sequence length, units) (128, 15, 1024)\n",
      "Encoder Hidden state shape: (batch size, units) (128, 1024)\n"
     ]
    }
   ],
   "source": [
    "class Encoder(tf.keras.Model):\n",
    "    def __init__(self, vocab_size, embedding_dim, enc_units, batch_sz):\n",
    "        super(Encoder, self).__init__()\n",
    "        self.batch_sz = batch_sz\n",
    "        self.enc_units = enc_units\n",
    "        self.embedding = tf.keras.layers.Embedding(vocab_size, embedding_dim)\n",
    "        self.gru = tf.keras.layers.GRU(self.enc_units, return_sequences=True, return_state=True, recurrent_initializer='glorot_uniform')\n",
    "\n",
    "    def call(self, x, hidden):\n",
    "        x = self.embedding(x)\n",
    "        output, state = self.gru(x, initial_state = hidden)\n",
    "        return output, state\n",
    "\n",
    "    def initialize_hidden_state(self):\n",
    "        return tf.zeros((self.batch_sz, self.enc_units))\n",
    "    \n",
    "encoder = Encoder(vocab_inp_size, embedding_dim, units, BATCH_SIZE)\n",
    "\n",
    "# 样本输入\n",
    "sample_hidden = encoder.initialize_hidden_state()\n",
    "sample_output, sample_hidden = encoder(example_input_batch, sample_hidden)\n",
    "print ('Encoder output shape: (batch size, sequence length, units) {}'.format(sample_output.shape))\n",
    "print ('Encoder Hidden state shape: (batch size, units) {}'.format(sample_hidden.shape))"
   ]
  },
  {
   "cell_type": "code",
   "execution_count": 12,
   "metadata": {},
   "outputs": [
    {
     "name": "stdout",
     "output_type": "stream",
     "text": [
      "Attention result shape: (batch size, units) (128, 1024)\n",
      "Attention weights shape: (batch_size, sequence_length, 1) (128, 15, 1)\n"
     ]
    }
   ],
   "source": [
    "class BahdanauAttention(tf.keras.layers.Layer):\n",
    "    def __init__(self, units):\n",
    "        super(BahdanauAttention, self).__init__()\n",
    "        self.W1 = tf.keras.layers.Dense(units)\n",
    "        self.W2 = tf.keras.layers.Dense(units)\n",
    "        self.V = tf.keras.layers.Dense(1)\n",
    "\n",
    "    def call(self, query, values):\n",
    "        # 隐藏层的形状 == （批大小，隐藏层大小）\n",
    "        # hidden_with_time_axis 的形状 == （批大小，1，隐藏层大小）\n",
    "        # 这样做是为了执行加法以计算分数  \n",
    "        hidden_with_time_axis = tf.expand_dims(query, 1)\n",
    "\n",
    "        # 分数的形状 == （批大小，最大长度，1）\n",
    "        # 我们在最后一个轴上得到 1， 因为我们把分数应用于 self.V\n",
    "        # 在应用 self.V 之前，张量的形状是（批大小，最大长度，单位）\n",
    "        score = self.V(tf.nn.tanh(self.W1(values) + self.W2(hidden_with_time_axis)))\n",
    "\n",
    "        # 注意力权重 （attention_weights） 的形状 == （批大小，最大长度，1）\n",
    "        attention_weights = tf.nn.softmax(score, axis=1)\n",
    "\n",
    "        # 上下文向量 （context_vector） 求和之后的形状 == （批大小，隐藏层大小）\n",
    "        context_vector = attention_weights * values\n",
    "        context_vector = tf.reduce_sum(context_vector, axis=1)\n",
    "\n",
    "        return context_vector, attention_weights\n",
    "    \n",
    "attention_layer = BahdanauAttention(10)\n",
    "attention_result, attention_weights = attention_layer(sample_hidden, sample_output)\n",
    "\n",
    "print(\"Attention result shape: (batch size, units) {}\".format(attention_result.shape))\n",
    "print(\"Attention weights shape: (batch_size, sequence_length, 1) {}\".format(attention_weights.shape))"
   ]
  },
  {
   "cell_type": "code",
   "execution_count": 13,
   "metadata": {},
   "outputs": [
    {
     "name": "stdout",
     "output_type": "stream",
     "text": [
      "Decoder output shape: (batch_size, vocab size) (128, 6630)\n"
     ]
    }
   ],
   "source": [
    "class Decoder(tf.keras.Model):\n",
    "    def __init__(self, vocab_size, embedding_dim, dec_units, batch_sz):\n",
    "        super(Decoder, self).__init__()\n",
    "        self.batch_sz = batch_sz\n",
    "        self.dec_units = dec_units\n",
    "        self.embedding = tf.keras.layers.Embedding(vocab_size, embedding_dim)\n",
    "        self.gru = tf.keras.layers.GRU(self.dec_units,\n",
    "                                       return_sequences=True,\n",
    "                                       return_state=True,\n",
    "                                       recurrent_initializer='glorot_uniform')\n",
    "        self.fc = tf.keras.layers.Dense(vocab_size)\n",
    "\n",
    "        # 用于注意力\n",
    "        self.attention = BahdanauAttention(self.dec_units)\n",
    "\n",
    "    def call(self, x, hidden, enc_output):\n",
    "        # 编码器输出 （enc_output） 的形状 == （批大小，最大长度，隐藏层大小）\n",
    "        context_vector, attention_weights = self.attention(hidden, enc_output)\n",
    "\n",
    "        # x 在通过嵌入层后的形状 == （批大小，1，嵌入维度）\n",
    "        x = self.embedding(x)\n",
    "\n",
    "        # x 在拼接 （concatenation） 后的形状 == （批大小，1，嵌入维度 + 隐藏层大小）\n",
    "        x = tf.concat([tf.expand_dims(context_vector, 1), x], axis=-1)\n",
    "\n",
    "        # 将合并后的向量传送到 GRU\n",
    "        output, state = self.gru(x)\n",
    "\n",
    "        # 输出的形状 == （批大小 * 1，隐藏层大小）\n",
    "        output = tf.reshape(output, (-1, output.shape[2]))\n",
    "\n",
    "        # 输出的形状 == （批大小，vocab）\n",
    "        x = self.fc(output)\n",
    "\n",
    "        return x, state, attention_weights\n",
    "    \n",
    "decoder = Decoder(vocab_tar_size, embedding_dim, units, BATCH_SIZE)\n",
    "\n",
    "sample_decoder_output, _, _ = decoder(tf.random.uniform((BATCH_SIZE, 1)), sample_hidden, sample_output)\n",
    "\n",
    "print ('Decoder output shape: (batch_size, vocab size) {}'.format(sample_decoder_output.shape))"
   ]
  },
  {
   "cell_type": "markdown",
   "metadata": {},
   "source": [
    "## 定义优化器和损失函数"
   ]
  },
  {
   "cell_type": "code",
   "execution_count": 14,
   "metadata": {},
   "outputs": [],
   "source": [
    "optimizer = tf.keras.optimizers.Adam()\n",
    "loss_object = tf.keras.losses.SparseCategoricalCrossentropy(\n",
    "    from_logits=True, reduction='none')\n",
    "\n",
    "def loss_function(real, pred):\n",
    "    mask = tf.math.logical_not(tf.math.equal(real, 0))\n",
    "    loss_ = loss_object(real, pred)\n",
    "\n",
    "    mask = tf.cast(mask, dtype=loss_.dtype)\n",
    "    loss_ *= mask\n",
    "\n",
    "    return tf.reduce_mean(loss_)"
   ]
  },
  {
   "cell_type": "markdown",
   "metadata": {},
   "source": [
    "## 检查点（基于对象保存）"
   ]
  },
  {
   "cell_type": "code",
   "execution_count": 15,
   "metadata": {},
   "outputs": [],
   "source": [
    "import os\n",
    "\n",
    "checkpoint_dir = './training_checkpoints_4_1'\n",
    "checkpoint_prefix = os.path.join(checkpoint_dir, \"ckpt\")\n",
    "checkpoint = tf.train.Checkpoint(optimizer=optimizer, encoder=encoder, decoder=decoder)"
   ]
  },
  {
   "cell_type": "code",
   "execution_count": 16,
   "metadata": {},
   "outputs": [],
   "source": [
    "@tf.function\n",
    "def train_step(inp, targ, enc_hidden):\n",
    "    loss = 0\n",
    "\n",
    "    with tf.GradientTape() as tape:\n",
    "        enc_output, enc_hidden = encoder(inp, enc_hidden)\n",
    "\n",
    "        dec_hidden = enc_hidden\n",
    "\n",
    "        dec_input = tf.expand_dims([targ_lang.word_index['<start>']] * BATCH_SIZE, 1)\n",
    "\n",
    "        # 教师强制 - 将目标词作为下一个输入\n",
    "        for t in range(1, targ.shape[1]):\n",
    "            # 将编码器输出 （enc_output） 传送至解码器\n",
    "            predictions, dec_hidden, _ = decoder(dec_input, dec_hidden, enc_output)\n",
    "\n",
    "            loss += loss_function(targ[:, t], predictions)\n",
    "\n",
    "            # 使用教师强制\n",
    "            dec_input = tf.expand_dims(targ[:, t], 1)\n",
    "\n",
    "    batch_loss = (loss / int(targ.shape[1]))\n",
    "\n",
    "    variables = encoder.trainable_variables + decoder.trainable_variables\n",
    "\n",
    "    gradients = tape.gradient(loss, variables)\n",
    "\n",
    "    optimizer.apply_gradients(zip(gradients, variables))\n",
    "\n",
    "    return batch_loss"
   ]
  },
  {
   "cell_type": "markdown",
   "metadata": {},
   "source": [
    "## 训练"
   ]
  },
  {
   "cell_type": "code",
   "execution_count": 17,
   "metadata": {},
   "outputs": [
    {
     "data": {
      "text/plain": [
       "<tensorflow.python.training.tracking.util.CheckpointLoadStatus at 0x1e942394fc8>"
      ]
     },
     "execution_count": 17,
     "metadata": {},
     "output_type": "execute_result"
    }
   ],
   "source": [
    "# 恢复检查点目录 （checkpoint_dir） 中最新的检查点\n",
    "checkpoint.restore(tf.train.latest_checkpoint(checkpoint_dir))"
   ]
  },
  {
   "cell_type": "code",
   "execution_count": 33,
   "metadata": {},
   "outputs": [
    {
     "name": "stdout",
     "output_type": "stream",
     "text": [
      "Epoch 1 Batch 0 Loss 3.7628\n",
      "Epoch 1 Batch 40 Loss 2.2956\n",
      "Epoch 1 Loss 2.4123\n",
      "Time taken for 1 epoch 304.1918475627899 sec\n",
      "\n",
      "Epoch 2 Batch 0 Loss 2.0240\n",
      "Epoch 2 Batch 40 Loss 1.9135\n",
      "Epoch 2 Loss 1.9583\n",
      "Time taken for 1 epoch 288.0244393348694 sec\n",
      "\n",
      "Epoch 3 Batch 0 Loss 1.7051\n",
      "Epoch 3 Batch 40 Loss 1.7726\n",
      "Epoch 3 Loss 1.7902\n",
      "Time taken for 1 epoch 286.6007413864136 sec\n",
      "\n",
      "Epoch 4 Batch 0 Loss 1.6579\n",
      "Epoch 4 Batch 40 Loss 1.6039\n",
      "Epoch 4 Loss 1.6277\n",
      "Time taken for 1 epoch 291.56291818618774 sec\n",
      "\n",
      "Epoch 5 Batch 0 Loss 1.4373\n",
      "Epoch 5 Batch 40 Loss 1.4115\n",
      "Epoch 5 Loss 1.4969\n",
      "Time taken for 1 epoch 289.05738139152527 sec\n",
      "\n",
      "Epoch 6 Batch 0 Loss 1.2863\n",
      "Epoch 6 Batch 40 Loss 1.3289\n",
      "Epoch 6 Loss 1.3825\n",
      "Time taken for 1 epoch 287.7144830226898 sec\n",
      "\n",
      "Epoch 7 Batch 0 Loss 1.2857\n",
      "Epoch 7 Batch 40 Loss 1.3462\n",
      "Epoch 7 Loss 1.2794\n",
      "Time taken for 1 epoch 284.82519578933716 sec\n",
      "\n",
      "Epoch 8 Batch 0 Loss 1.1876\n",
      "Epoch 8 Batch 40 Loss 1.1288\n",
      "Epoch 8 Loss 1.1712\n",
      "Time taken for 1 epoch 281.07025957107544 sec\n",
      "\n",
      "Epoch 9 Batch 0 Loss 1.0115\n",
      "Epoch 9 Batch 40 Loss 1.0329\n",
      "Epoch 9 Loss 1.0612\n",
      "Time taken for 1 epoch 283.5647277832031 sec\n",
      "\n",
      "Epoch 10 Batch 0 Loss 0.8248\n",
      "Epoch 10 Batch 40 Loss 0.9616\n",
      "Epoch 10 Loss 0.9552\n",
      "Time taken for 1 epoch 285.466032743454 sec\n",
      "\n",
      "Epoch 11 Batch 0 Loss 0.8183\n",
      "Epoch 11 Batch 40 Loss 0.8079\n",
      "Epoch 11 Loss 0.8500\n",
      "Time taken for 1 epoch 283.7785985469818 sec\n",
      "\n",
      "Epoch 12 Batch 0 Loss 0.7016\n",
      "Epoch 12 Batch 40 Loss 0.7852\n",
      "Epoch 12 Loss 0.7418\n",
      "Time taken for 1 epoch 286.23113322257996 sec\n",
      "\n",
      "Epoch 13 Batch 0 Loss 0.6504\n",
      "Epoch 13 Batch 40 Loss 0.6921\n",
      "Epoch 13 Loss 0.6404\n",
      "Time taken for 1 epoch 287.65286588668823 sec\n",
      "\n",
      "Epoch 14 Batch 0 Loss 0.4595\n",
      "Epoch 14 Batch 40 Loss 0.5715\n",
      "Epoch 14 Loss 0.5478\n",
      "Time taken for 1 epoch 284.91007828712463 sec\n",
      "\n",
      "Epoch 15 Batch 0 Loss 0.4597\n",
      "Epoch 15 Batch 40 Loss 0.5043\n",
      "Epoch 15 Loss 0.4711\n",
      "Time taken for 1 epoch 293.1927058696747 sec\n",
      "\n",
      "Epoch 16 Batch 0 Loss 0.3877\n",
      "Epoch 16 Batch 40 Loss 0.4211\n",
      "Epoch 16 Loss 0.3946\n",
      "Time taken for 1 epoch 288.4249382019043 sec\n",
      "\n",
      "Epoch 17 Batch 0 Loss 0.2992\n",
      "Epoch 17 Batch 40 Loss 0.3019\n",
      "Epoch 17 Loss 0.3259\n",
      "Time taken for 1 epoch 286.92757272720337 sec\n",
      "\n",
      "Epoch 18 Batch 0 Loss 0.2281\n",
      "Epoch 18 Batch 40 Loss 0.2687\n",
      "Epoch 18 Loss 0.2698\n",
      "Time taken for 1 epoch 285.2039837837219 sec\n",
      "\n",
      "Epoch 19 Batch 0 Loss 0.2223\n",
      "Epoch 19 Batch 40 Loss 0.2084\n",
      "Epoch 19 Loss 0.2228\n",
      "Time taken for 1 epoch 286.42460083961487 sec\n",
      "\n",
      "Epoch 20 Batch 0 Loss 0.1853\n",
      "Epoch 20 Batch 40 Loss 0.1826\n",
      "Epoch 20 Loss 0.1837\n",
      "Time taken for 1 epoch 285.91612100601196 sec\n",
      "\n"
     ]
    }
   ],
   "source": [
    "import time\n",
    "\n",
    "for epoch in range(EPOCHS):\n",
    "    start = time.time()\n",
    "\n",
    "    enc_hidden = encoder.initialize_hidden_state()\n",
    "    total_loss = 0\n",
    "\n",
    "    for (batch, (inp, targ)) in enumerate(dataset.take(steps_per_epoch)):\n",
    "        batch_loss = train_step(inp, targ, enc_hidden)\n",
    "        total_loss += batch_loss\n",
    "\n",
    "        if batch % 40 == 0:\n",
    "            print('Epoch {} Batch {} Loss {:.4f}'.format(epoch + 1, batch, batch_loss.numpy()))\n",
    "    # 每 2 个周期（epoch），保存（检查点）一次模型\n",
    "    if (epoch + 1) % 2 == 0:\n",
    "        checkpoint.save(file_prefix = checkpoint_prefix)\n",
    "\n",
    "    print('Epoch {} Loss {:.4f}'.format(epoch + 1, total_loss / steps_per_epoch))\n",
    "    print('Time taken for 1 epoch {} sec\\n'.format(time.time() - start))"
   ]
  },
  {
   "cell_type": "markdown",
   "metadata": {},
   "source": [
    "## 翻译"
   ]
  },
  {
   "cell_type": "code",
   "execution_count": 18,
   "metadata": {},
   "outputs": [],
   "source": [
    "def evaluate(inputs):\n",
    "    \n",
    "    sentence = ' '.join([inp_lang.index_word[t] for t in inputs if t!=0])\n",
    "    sentence = sentence[7:-5].strip()\n",
    "    \n",
    "    inputs = tf.keras.preprocessing.sequence.pad_sequences([inputs], maxlen=max_length_inp, padding='post')\n",
    "    inputs = tf.convert_to_tensor(inputs)\n",
    "\n",
    "    result = ''\n",
    "\n",
    "    hidden = [tf.zeros((1, units))]\n",
    "    enc_out, enc_hidden = encoder(inputs, hidden)\n",
    "\n",
    "    dec_hidden = enc_hidden\n",
    "    dec_input = tf.expand_dims([targ_lang.word_index['<start>']], 0)\n",
    "\n",
    "    for t in range(max_length_targ):\n",
    "        predictions, dec_hidden, _ = decoder(dec_input, dec_hidden, enc_out)\n",
    "\n",
    "        predicted_id = tf.argmax(predictions[0]).numpy()\n",
    "\n",
    "        result += targ_lang.index_word[predicted_id] + ' '\n",
    "\n",
    "        if targ_lang.index_word[predicted_id] == '<end>':\n",
    "            return result, sentence\n",
    "\n",
    "        # 预测的 ID 被输送回模型\n",
    "        dec_input = tf.expand_dims([predicted_id], 0)\n",
    "\n",
    "    return result, sentence"
   ]
  },
  {
   "cell_type": "code",
   "execution_count": 19,
   "metadata": {},
   "outputs": [],
   "source": [
    "def translate(inputs):\n",
    "    result, sentence = evaluate(inputs)\n",
    "\n",
    "    print(sentence)\n",
    "    print('predict : ',re.sub(r'[\" \"]+', \"\", result[:-6]))"
   ]
  },
  {
   "cell_type": "markdown",
   "metadata": {},
   "source": [
    "## 训练集"
   ]
  },
  {
   "cell_type": "code",
   "execution_count": 21,
   "metadata": {},
   "outputs": [
    {
     "name": "stdout",
     "output_type": "stream",
     "text": [
      "it isn ' t too late for you .\n",
      "predict :  这不跟你来说也沒有耐心。\n",
      "real : 对你来说还不太晚。\n",
      "\n",
      "come and dance with me .\n",
      "predict :  过来和我跳舞啊!\n",
      "real : 过来和我跳舞啊!\n",
      "\n",
      "that boy is running .\n",
      "predict :  这个男孩子在跑步。\n",
      "real : 这个男孩子在跑步。\n",
      "\n",
      "can you lend me 10 , 000 yen ?\n",
      "predict :  你能借給我10000日元？\n",
      "real : 你能借給我10000日元？\n",
      "\n",
      "he has two daughters .\n",
      "predict :  他有两个女儿。\n",
      "real : 他有两个女儿。\n",
      "\n",
      "you are not a coward .\n",
      "predict :  你不是个懦夫。\n",
      "real : 您不是个懦夫。\n",
      "\n",
      "i ' ve been wanting to see you .\n",
      "predict :  我一直想見你。\n",
      "real : 我一直想見你。\n",
      "\n",
      "we have to go by the rules .\n",
      "predict :  我們必須離開了。\n",
      "real : 我们必须遵守规则。\n",
      "\n",
      "she gave us a vague answer .\n",
      "predict :  她給了我們一個模糊的答案。\n",
      "real : 她給了我們一個模糊的答案。\n",
      "\n",
      "why worry about tom ?\n",
      "predict :  為什麼要擔心tom？\n",
      "real : 為什麼要擔心tom？\n",
      "\n",
      "let ' s go !\n",
      "predict :  我們走吧!\n",
      "real : 走吧。\n",
      "\n",
      "people from madrid are weird .\n",
      "predict :  从马德里来的人都不會人。\n",
      "real : 从马德里来的人都很怪。\n",
      "\n",
      "tom will probably be there .\n",
      "predict :  湯姆可能會去那裡。\n",
      "real : 湯姆可能會去那裡。\n",
      "\n",
      "don ' t stand near me .\n",
      "predict :  不要站在我身邊。\n",
      "real : 不要站在我身邊。\n",
      "\n",
      "i ' m 17 , too .\n",
      "predict :  我也紧张。\n",
      "real : 我也是17岁。\n",
      "\n",
      "i ' ll make you happy .\n",
      "predict :  我會让你逃跑的。\n",
      "real : 我会让你幸福的。\n",
      "\n",
      "i met a friend .\n",
      "predict :  我遇见一个朋友。\n",
      "real : 我遇见一个朋友。\n",
      "\n",
      "how about going for a drive ?\n",
      "predict :  去開車兜風怎樣？\n",
      "real : 去開車兜風怎樣？\n",
      "\n",
      "summer has ended .\n",
      "predict :  夏天已經結束。\n",
      "real : 夏天已經結束。\n",
      "\n",
      "please allow me to go .\n",
      "predict :  請允許我去。\n",
      "real : 請允許我去。\n",
      "\n"
     ]
    }
   ],
   "source": [
    "index = 911\n",
    "for i in range(index, index+20):\n",
    "    translate(input_tensor_train[i])\n",
    "    target = [targ_lang.index_word[t] for t in target_tensor_train[i] if t>0]\n",
    "    target = \"\".join(target)\n",
    "    print(f'real : {target[7:-5]}\\n')"
   ]
  },
  {
   "cell_type": "markdown",
   "metadata": {},
   "source": [
    "## 测试集"
   ]
  },
  {
   "cell_type": "code",
   "execution_count": 23,
   "metadata": {},
   "outputs": [
    {
     "name": "stdout",
     "output_type": "stream",
     "text": [
      "my stomach ' s full .\n",
      "predict :  我的胃是脹滿的。\n",
      "real : 我的胃是脹滿的。\n",
      "\n",
      "i don ' t fear death .\n",
      "predict :  我不怕死。\n",
      "real : 我不怕死。\n",
      "\n",
      "it sounds like a good idea .\n",
      "predict :  它是个好主意。\n",
      "real : 它聽起來是個好主意。\n",
      "\n",
      "tom loves you .\n",
      "predict :  汤姆关心你。\n",
      "real : 汤姆爱你。\n",
      "\n",
      "i miss you so much .\n",
      "predict :  我如此想念你。\n",
      "real : 我如此想念你。\n",
      "\n",
      "what ' s your name ?\n",
      "predict :  你叫什么名字？\n",
      "real : 叫什麼名字?\n",
      "\n",
      "look , she said .\n",
      "predict :  “看啊！”她说道。\n",
      "real : “看啊！”她说道。\n",
      "\n",
      "don ' t shout .\n",
      "predict :  不许大叫。\n",
      "real : 不许大叫。\n",
      "\n",
      "i would like your picture .\n",
      "predict :  我想要你的照片。\n",
      "real : 我想要你的照片。\n",
      "\n",
      "i ' ve quit drinking beer .\n",
      "predict :  我已經不喝啤酒了。\n",
      "real : 我已經不喝啤酒了。\n",
      "\n",
      "say it clearly .\n",
      "predict :  說清楚。\n",
      "real : 說清楚。\n",
      "\n",
      "i don ' t want to play anymore .\n",
      "predict :  我不想再玩。\n",
      "real : 我不想再玩了。\n",
      "\n",
      "tom doesn ' t think so .\n",
      "predict :  汤姆可不这么认为。\n",
      "real : 汤姆可不这么认为。\n",
      "\n",
      "may i go now ?\n",
      "predict :  我现在能去了吗？\n",
      "real : 我现在能去了吗？\n",
      "\n",
      "i met your father yesterday .\n",
      "predict :  我昨天到湯姆在睡覺。\n",
      "real : 昨天我見到了你父親。\n",
      "\n",
      "nothing is worse than war .\n",
      "predict :  没有什么比战争更糟的。\n",
      "real : 没有什么比战争更糟的了。\n",
      "\n",
      "you look like a monkey .\n",
      "predict :  你看着像猴。\n",
      "real : 你看着像猴。\n",
      "\n",
      "she is dieting .\n",
      "predict :  她在节食。\n",
      "real : 她在节食。\n",
      "\n",
      "tom lost his credibility .\n",
      "predict :  湯姆失去了信譽。\n",
      "real : 湯姆失去了信譽。\n",
      "\n",
      "he may have lost his way .\n",
      "predict :  他的年龄是他的两倍。\n",
      "real : 他可能迷路了。\n",
      "\n"
     ]
    }
   ],
   "source": [
    "index = 911\n",
    "for i in range(index, index+20):\n",
    "    translate(input_tensor_val[i])\n",
    "    target = [targ_lang.index_word[t] for t in target_tensor_val[i] if t>0]\n",
    "    target = \"\".join(target)\n",
    "    print(f'real : {target[7:-5]}\\n')"
   ]
  },
  {
   "cell_type": "code",
   "execution_count": null,
   "metadata": {},
   "outputs": [],
   "source": []
  }
 ],
 "metadata": {
  "kernelspec": {
   "display_name": "Python 3",
   "language": "python",
   "name": "python3"
  },
  "language_info": {
   "codemirror_mode": {
    "name": "ipython",
    "version": 3
   },
   "file_extension": ".py",
   "mimetype": "text/x-python",
   "name": "python",
   "nbconvert_exporter": "python",
   "pygments_lexer": "ipython3",
   "version": "3.7.4"
  }
 },
 "nbformat": 4,
 "nbformat_minor": 4
}
