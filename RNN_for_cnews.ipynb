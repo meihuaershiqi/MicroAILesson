{
 "cells": [
  {
   "cell_type": "code",
   "execution_count": 1,
   "metadata": {},
   "outputs": [],
   "source": [
    "import numpy as np\n",
    "import tensorflow.keras as kr\n",
    "from tensorflow.keras.models import Sequential\n",
    "from tensorflow.keras.layers import Dense, Dropout, Activation, Embedding, LSTM, SimpleRNN, GRU\n",
    "import matplotlib.pyplot as plt"
   ]
  },
  {
   "cell_type": "code",
   "execution_count": 2,
   "metadata": {},
   "outputs": [],
   "source": [
    "# 读取词汇表\n",
    "def read_vocab(vocab_dir):\n",
    "    with open(vocab_dir, 'r', encoding='utf-8', errors='ignore') as fp:\n",
    "        words = [_.strip() for _ in fp.readlines()]\n",
    "    word_to_id = dict(zip(words, range(len(words))))\n",
    "    return words, word_to_id\n",
    "\n",
    "# 获取训练文本中所有出现过的字及其所对应的id\n",
    "words, word_to_id = read_vocab('cnews.vocab.txt')"
   ]
  },
  {
   "cell_type": "code",
   "execution_count": 3,
   "metadata": {},
   "outputs": [],
   "source": [
    "# 读取分类目录，固定\n",
    "def read_category():\n",
    "    categories = ['体育', '财经', '房产', '家居', '教育', '科技', '时尚', '时政', '游戏', '娱乐']\n",
    "    categories = [x for x in categories]\n",
    "    cat_to_id = dict(zip(categories, range(len(categories)))) \n",
    "    return categories, cat_to_id\n",
    "\n",
    "# 获取文本的类别及其对应id的字典\n",
    "categories, cat_to_id = read_category()"
   ]
  },
  {
   "cell_type": "code",
   "execution_count": 4,
   "metadata": {},
   "outputs": [],
   "source": [
    "# 将文件转换为id表示\n",
    "def process_file(filename, word_to_id, cat_to_id, max_length=600):\n",
    "    contents, labels = [], []\n",
    "    with open(filename, 'r', encoding='utf-8', errors='ignore') as f:\n",
    "        for line in f:\n",
    "            try:\n",
    "                label, content = line.strip().split('\\t')\n",
    "                if content:\n",
    "                    contents.append(list(content))\n",
    "                    labels.append(label)\n",
    "            except:\n",
    "                pass\n",
    "    data_id, label_id = [], []\n",
    "    for i in range(len(contents)):\n",
    "        data_id.append([word_to_id[x] for x in contents[i] if x in word_to_id])#将每句话id化\n",
    "        label_id.append(cat_to_id[labels[i]])#每句话对应的类别的id\n",
    "        \n",
    "    # # 使用keras提供的pad_sequences来将文本pad为固定长度\n",
    "    x_pad = kr.preprocessing.sequence.pad_sequences(data_id, max_length)\n",
    "    y_pad = kr.utils.to_categorical(label_id, num_classes=len(cat_to_id))  # 将标签转换为one-hot表示\n",
    "    #\n",
    "    return x_pad, y_pad\n",
    "\n",
    "\n",
    "# 数据加载及分批\n",
    "# 获取训练数据每个字的id和对应标签的one-hot形式\n",
    "x_train, y_train = process_file('cnews.train.txt', word_to_id, cat_to_id, 600)\n",
    "\n",
    "x_val, y_val = process_file('cnews.val.txt', word_to_id, cat_to_id, 600)"
   ]
  },
  {
   "cell_type": "code",
   "execution_count": 8,
   "metadata": {},
   "outputs": [],
   "source": [
    "# 定义RNN网络模型\n",
    "def RNN_for_cnews(vocab_size, embed_dim, seq_length, nhid, num_classes=10):\n",
    "    \n",
    "    # 定义模型\n",
    "    model = Sequential()\n",
    "    model.add(Embedding(vocab_size, embed_dim, input_length=seq_length))\n",
    "    model.add(GRU(nhid, dropout=0.2, recurrent_dropout=0.2))\n",
    "    model.add(Dense(num_classes))\n",
    "    model.add(Activation('softmax'))\n",
    "    \n",
    "    # 整合模型\n",
    "    model.compile(loss='binary_crossentropy',\n",
    "                  optimizer='adam',\n",
    "                  metrics=['accuracy'])\n",
    "    \n",
    "    \n",
    "    x_test, y_test = process_file('cnews.test.txt', word_to_id, cat_to_id, 600)\n",
    "    # 开始训练\n",
    "    print(\"\\n开始训练\")\n",
    "    history = model.fit(x_train, y_train, batch_size=128, epochs=6, \n",
    "                    validation_data=(x_test, y_test))\n",
    "    \n",
    "#     # 评价模型\n",
    "#     print(\"\\n评价模型：\")\n",
    "#     final_loss, final_accuracy = model.evaluate(x_val, y_val)\n",
    "#     print(\"val_loss= \", final_loss)\n",
    "#     print(\"val_accuracy= \", final_accuracy)\n",
    "    \n",
    "    return model, history"
   ]
  },
  {
   "cell_type": "code",
   "execution_count": 9,
   "metadata": {},
   "outputs": [
    {
     "name": "stdout",
     "output_type": "stream",
     "text": [
      "\n",
      "开始训练\n",
      "Train on 50000 samples, validate on 10000 samples\n",
      "Epoch 1/6\n",
      "50000/50000 [==============================] - 703s 14ms/sample - loss: 0.2028 - accuracy: 0.9270 - val_loss: 0.1383 - val_accuracy: 0.9498\n",
      "Epoch 2/6\n",
      "50000/50000 [==============================] - 729s 15ms/sample - loss: 0.1045 - accuracy: 0.9624 - val_loss: 0.0800 - val_accuracy: 0.9743\n",
      "Epoch 3/6\n",
      "50000/50000 [==============================] - 750s 15ms/sample - loss: 0.0575 - accuracy: 0.9808 - val_loss: 0.0487 - val_accuracy: 0.9842\n",
      "Epoch 4/6\n",
      "50000/50000 [==============================] - 704s 14ms/sample - loss: 0.0391 - accuracy: 0.9872 - val_loss: 0.0383 - val_accuracy: 0.9875\n",
      "Epoch 5/6\n",
      "50000/50000 [==============================] - 696s 14ms/sample - loss: 0.0307 - accuracy: 0.9898 - val_loss: 0.0352 - val_accuracy: 0.9883\n",
      "Epoch 6/6\n",
      "50000/50000 [==============================] - 720s 14ms/sample - loss: 0.0255 - accuracy: 0.9918 - val_loss: 0.0319 - val_accuracy: 0.9887\n"
     ]
    }
   ],
   "source": [
    "model, history = RNN_for_cnews(5000, 64, 600, 64)"
   ]
  },
  {
   "cell_type": "code",
   "execution_count": 10,
   "metadata": {},
   "outputs": [
    {
     "name": "stdout",
     "output_type": "stream",
     "text": [
      "\n",
      "评价模型：\n",
      "5000/5000 [==============================] - 17s 3ms/sample - loss: 0.0569 - accuracy: 0.9818\n",
      "loss=  0.056854204031731935\n",
      "accuracy=  0.9817798\n"
     ]
    }
   ],
   "source": [
    "# 评价模型\n",
    "print(\"\\n评价模型：\")\n",
    "final_loss, final_accuracy = model.evaluate(x_val, y_val)\n",
    "print(\"loss= \", final_loss)\n",
    "print(\"accuracy= \", final_accuracy)"
   ]
  },
  {
   "cell_type": "code",
   "execution_count": null,
   "metadata": {},
   "outputs": [],
   "source": []
  }
 ],
 "metadata": {
  "kernelspec": {
   "display_name": "Python 3",
   "language": "python",
   "name": "python3"
  },
  "language_info": {
   "codemirror_mode": {
    "name": "ipython",
    "version": 3
   },
   "file_extension": ".py",
   "mimetype": "text/x-python",
   "name": "python",
   "nbconvert_exporter": "python",
   "pygments_lexer": "ipython3",
   "version": "3.7.4"
  }
 },
 "nbformat": 4,
 "nbformat_minor": 4
}
