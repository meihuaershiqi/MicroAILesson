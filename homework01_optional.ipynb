{
 "cells": [
  {
   "cell_type": "markdown",
   "metadata": {},
   "source": [
    "## （Optional）Create different policies for transfer system."
   ]
  },
  {
   "cell_type": "markdown",
   "metadata": {},
   "source": [
    "As much as you can to use the already implemented search agent. You just need to define the **is_goal()**, **get_successor()**, **strategy()** three functions. \n",
    "\n",
    "> a.\tDefine different policies for transfer system. \n",
    "\n",
    "> b.\tSuch as Shortest Path Priority（路程最短优先）, Minimum Transfer Priority(最少换乘优先), Comprehensive Priority(综合优先)\n",
    "\n",
    "> c.\tImplement Continuous transfer. Based on the Agent you implemented, please add this feature: Besides the @param start and @param destination two stations, add some more stations, we called @param by_way, it means, our path should from the start and end, but also include the  @param by_way stations. \n",
    "\n",
    "e.g \n",
    "```\n",
    "1. Input:  start=A,  destination=B, by_way=[C] \n",
    "    Output: [A, … .., C, …. B]\n",
    "2. Input: start=A, destination=B, by_way=[C, D, E]\n",
    "    Output: [A … C … E … D … B]  \n",
    "    # based on your policy, the E station could be reached firstly. \n",
    "```"
   ]
  },
  {
   "cell_type": "code",
   "execution_count": null,
   "metadata": {},
   "outputs": [],
   "source": [
    "import requests\n",
    "import re\n",
    "import numpy as np\n",
    "r = requests.get('http://map.amap.com/service/subway?_1469083453978&srhdata=1100_drw_beijing.json')\n",
    "r.text"
   ]
  },
  {
   "cell_type": "code",
   "execution_count": 2,
   "metadata": {},
   "outputs": [],
   "source": [
    "def get_lines_stations_info(text):\n",
    "    '''\n",
    "    根据爬取文本数据\n",
    "    获取所有线路信息和所有站点信息\n",
    "    \n",
    "    Param\n",
    "    ----------\n",
    "    text : 文本信息\n",
    "    \n",
    "    Return\n",
    "    ----------\n",
    "    lines_info ： 所有线路信息的dict：key：线路名称；value：站点名称list\n",
    "    stations_info ： 所有站点信息的dict：key：站点名称；value：站点坐标(x,y)\n",
    "    \n",
    "    '''\n",
    "    lines_list = text.split(\"st\")[1:]\n",
    "    \n",
    "    # 遍历text格式数据，组成地点数据结构\n",
    "    # 所有线路信息的dict：key：线路名称；value：站点名称list\n",
    "    lines_info = {}\n",
    "    \n",
    "    # 所有站点信息的dict：key：站点名称；value：站点坐标(x,y)\n",
    "    stations_info = {}\n",
    "        \n",
    "    for i in range(len(lines_list)):\n",
    "        \n",
    "        # 站点名称 list\n",
    "        stations = re.findall('\\\"n\\\":\\\"(\\w+)\\\"', lines_list[i])\n",
    "        # 站点坐标 list\n",
    "        x_y = re.findall('\\\"sl\\\":\\\"(\\d+.\\d+),(\\d+.\\d+)\\\"', lines_list[i])\n",
    "        x_y = [tuple(map(float, i)) for i in x_y]\n",
    "        # 线路名称 \n",
    "        sub_name = re.findall('\\\"ln\\\":\\\"(\\w+)\\\"', lines_list[i])[0]\n",
    "        \n",
    "        lines_info[sub_name] = stations\n",
    "        \n",
    "        for i, k in dict(zip(stations, x_y)).items():\n",
    "            stations_info[i] = k\n",
    "    \n",
    "    return lines_info, stations_info\n",
    "\n",
    "lines_info, stations_info = get_lines_stations_info(r.text)"
   ]
  },
  {
   "cell_type": "code",
   "execution_count": 3,
   "metadata": {},
   "outputs": [],
   "source": [
    "from collections import defaultdict\n",
    "\n",
    "def get_neighbor_info(lines_info):\n",
    "    '''\n",
    "    根据线路信息，建立站点邻接表dict\n",
    "    \n",
    "    Param\n",
    "    ----------\n",
    "    lines_info ： 所有线路信息的dict：key：线路名称；value：站点名称list\n",
    "    \n",
    "    Return\n",
    "    ----------\n",
    "    neighbor_info ： 所有站点的邻接表\n",
    "    \n",
    "    '''\n",
    "    neighbor_info = defaultdict(list)\n",
    "\n",
    "    # 把str2加入str1站点的邻接表中\n",
    "    def add_neighbor_dict(info, str1, str2):\n",
    "        \n",
    "        info[str1].append(str2)\n",
    "\n",
    "    for sub_name, stations in lines_info.items():\n",
    "        \n",
    "        sta_len = len(stations)\n",
    "        for i in range(sta_len -1):\n",
    "            add_neighbor_dict(neighbor_info, stations[i], stations[i + 1])\n",
    "            add_neighbor_dict(neighbor_info, stations[sta_len-1-i], stations[sta_len-2-i])\n",
    "\n",
    "    return neighbor_info\n",
    "\n",
    "neighbor_info = get_neighbor_info(lines_info)         "
   ]
  },
  {
   "cell_type": "code",
   "execution_count": 4,
   "metadata": {},
   "outputs": [],
   "source": [
    "def station2sub(station):\n",
    "    '''\n",
    "    根据站点名称获取其所属的线路名称\n",
    "\n",
    "    Param\n",
    "    ----------\n",
    "    station ： 站点名称\n",
    "    \n",
    "    Return\n",
    "    ----------\n",
    "    sub_list ： 所属线路列表（换乘站点或单站点）\n",
    "    \n",
    "    '''\n",
    "    sub_list = []\n",
    "    for sub_name, stations in lines_info.items():\n",
    "        if station in stations:\n",
    "            sub_list.append(sub_name)\n",
    "    return sub_list\n",
    "\n",
    "\n",
    "def result_text(path):\n",
    "    '''\n",
    "    根据搜索路径格式化输出出行路线提示信息\n",
    "    \n",
    "    Param\n",
    "    ----------\n",
    "    path ： 搜索路径\n",
    "    \n",
    "    Return\n",
    "    ----------\n",
    "    text ： 地铁出行路线提示信息\n",
    "    \n",
    "    '''\n",
    "    \n",
    "    # path中各个站点所属线路的list\n",
    "    names_list = []\n",
    "    \n",
    "    # 遍历路径上的站点\n",
    "    for index, station in enumerate(path[:-1]):\n",
    "        \n",
    "        name_list = station2sub(station)\n",
    "        for name in name_list:\n",
    "            if name in station2sub(path[index+1]):\n",
    "                names_list.append(name)\n",
    "           \n",
    "        \n",
    "    text = \"\"\n",
    "    for index, name in enumerate(names_list):\n",
    "        if index==0:\n",
    "            text += f\"{name}{path[0]}上车，\"\n",
    "        else:\n",
    "            if name == names_list[index-1]: continue\n",
    "            text += f\"{path[index]}下车，换乘{name},\"\n",
    "            \n",
    "    \n",
    "    return text + path[-1] + \"下车。\" "
   ]
  },
  {
   "cell_type": "code",
   "execution_count": 5,
   "metadata": {},
   "outputs": [],
   "source": [
    "import math\n",
    "def get_distance_of_path(path):\n",
    "    '''\n",
    "    统计完成path需要的距离\n",
    "    \n",
    "    '''\n",
    "    distance = 0\n",
    "\n",
    "    for i, station in enumerate(path[:-1]):\n",
    "        x_y = stations_info[station]\n",
    "        x_y_next = stations_info[path[i+1]]\n",
    "        distance += math.hypot(x_y[0] - x_y_next[0], x_y[1] - x_y_next[1])\n",
    "\n",
    "    return distance \n",
    "\n",
    "def get_change_nums_of_path(path):\n",
    "    '''\n",
    "    统计完成path需要的换乘的次数\n",
    "    \n",
    "    '''\n",
    "    count = 0\n",
    "    \n",
    "    # path中各个站点所属线路的list\n",
    "    names_list = []\n",
    "    \n",
    "    # 遍历路径上的站点\n",
    "    for index, station in enumerate(path[:-1]):\n",
    "        \n",
    "        name_list = station2sub(station)\n",
    "        for name in name_list:\n",
    "            if name in station2sub(path[index+1]):\n",
    "                names_list.append(name)\n",
    "                \n",
    "    for index, sub_name in enumerate(names_list):\n",
    "        if index == 0: continue\n",
    "        if sub_name != names_list[index-1]:\n",
    "            count +=1\n",
    "            \n",
    "    return count"
   ]
  },
  {
   "cell_type": "code",
   "execution_count": 6,
   "metadata": {},
   "outputs": [],
   "source": [
    "def get_path(from_station, to_station, neighbor_info, search_strategy=None):\n",
    "    '''\n",
    "    根据不同搜索策略获取不同的最终路径\n",
    "    \n",
    "    Param\n",
    "    ----------\n",
    "    from_station ： 起始站点\n",
    "    to_station ： 到达站点\n",
    "    neighbor_info ：地铁线路各站点邻接图\n",
    "    search_strategy ：搜索策略，默认无\n",
    "    \n",
    "    Return\n",
    "    ----------\n",
    "    new_path ： 所有路径\n",
    "    \n",
    "    ''' \n",
    "\n",
    "    pathes = [[from_station]]\n",
    "    visited = set()\n",
    "    \n",
    "    while pathes:\n",
    "\n",
    "        path = pathes.pop(0)\n",
    "        node = path[-1]\n",
    "        \n",
    "        if node in visited: continue                    # 若已遍历，跳过 （图中是否为环）\n",
    "        \n",
    "        next_stas = neighbor_info[node]\n",
    "        \n",
    "        for next_sta in next_stas:\n",
    "            if next_sta == path[-1]: continue           # 是否为前一个站点 \n",
    "            \n",
    "            new_path = path + [next_sta]\n",
    "            if next_sta == to_station:\n",
    "                return new_path\n",
    "            \n",
    "            pathes.append(new_path)\n",
    "        '''\n",
    "        search_strategy\n",
    "        搜索策略默认   \n",
    "        \n",
    "        A : 路程最短优先\n",
    "        B : 最少换乘优先\n",
    "        C : 综合优先\n",
    "        \n",
    "        '''\n",
    "        \n",
    "        if search_strategy == 'A':\n",
    "            \n",
    "            pathes = sorted(pathes, key=get_distance_of_path)\n",
    "            \n",
    "        elif search_strategy == 'B':\n",
    "            \n",
    "            pathes = sorted(pathes, key=get_change_nums_of_path)\n",
    "            \n",
    "        else:\n",
    "            \n",
    "            pathes = sorted(pathes, key=get_change_nums_of_path)\n",
    "            pathes = sorted(pathes, key=get_distance_of_path)   \n",
    "            \n",
    "        visited.add(node)\n",
    "        \n"
   ]
  },
  {
   "cell_type": "markdown",
   "metadata": {},
   "source": [
    "##### 5.\tTest your result with commercial applications. \n",
    "\n",
    "将你的结果和高德地图或者百度地图进行比较，如果有不同，请分析原因"
   ]
  },
  {
   "cell_type": "code",
   "execution_count": 19,
   "metadata": {},
   "outputs": [
    {
     "data": {
      "text/plain": [
       "'6号线金安桥上车，慈寿寺下车，换乘10号线,公主坟下车，换乘1号线,建国门下车。'"
      ]
     },
     "execution_count": 19,
     "metadata": {},
     "output_type": "execute_result"
    }
   ],
   "source": [
    "path = get_path(\"金安桥\", \"建国门\", neighbor_info, \"A\")\n",
    "result_text(path)"
   ]
  },
  {
   "cell_type": "code",
   "execution_count": 20,
   "metadata": {},
   "outputs": [
    {
     "data": {
      "text/plain": [
       "'6号线金安桥上车，朝阳门下车，换乘2号线,建国门下车。'"
      ]
     },
     "execution_count": 20,
     "metadata": {},
     "output_type": "execute_result"
    }
   ],
   "source": [
    "path = get_path(\"金安桥\", \"建国门\", neighbor_info, \"B\")\n",
    "result_text(path)"
   ]
  },
  {
   "cell_type": "code",
   "execution_count": 18,
   "metadata": {},
   "outputs": [
    {
     "data": {
      "text/plain": [
       "'6号线金安桥上车，慈寿寺下车，换乘10号线,公主坟下车，换乘1号线,建国门下车。'"
      ]
     },
     "execution_count": 18,
     "metadata": {},
     "output_type": "execute_result"
    }
   ],
   "source": [
    "path = get_path(\"金安桥\", \"建国门\", neighbor_info, \"C\")\n",
    "result_text(path)"
   ]
  },
  {
   "cell_type": "code",
   "execution_count": null,
   "metadata": {},
   "outputs": [],
   "source": []
  }
 ],
 "metadata": {
  "kernelspec": {
   "display_name": "Python 3",
   "language": "python",
   "name": "python3"
  },
  "language_info": {
   "codemirror_mode": {
    "name": "ipython",
    "version": 3
   },
   "file_extension": ".py",
   "mimetype": "text/x-python",
   "name": "python",
   "nbconvert_exporter": "python",
   "pygments_lexer": "ipython3",
   "version": "3.7.4"
  }
 },
 "nbformat": 4,
 "nbformat_minor": 4
}
